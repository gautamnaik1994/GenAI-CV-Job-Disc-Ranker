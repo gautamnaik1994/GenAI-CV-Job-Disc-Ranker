{
 "cells": [
  {
   "cell_type": "code",
   "execution_count": 1,
   "metadata": {
    "id": "jMQslVSxvbb5"
   },
   "outputs": [
    {
     "data": {
      "text/plain": [
       "True"
      ]
     },
     "execution_count": 1,
     "metadata": {},
     "output_type": "execute_result"
    }
   ],
   "source": [
    "import warnings\n",
    "warnings.filterwarnings(\"ignore\")\n",
    "## setting up the language model\n",
    "import os\n",
    "from dotenv import load_dotenv\n",
    "from langchain_together import ChatTogether\n",
    "from langchain.chains.router import MultiPromptChain\n",
    "from langchain.chains.router.llm_router import LLMRouterChain, RouterOutputParser\n",
    "from langchain.prompts import PromptTemplate, ChatPromptTemplate\n",
    "from langchain import LLMChain\n",
    "\n",
    "## load the environment variables\n",
    "load_dotenv()"
   ]
  },
  {
   "cell_type": "code",
   "execution_count": 1,
   "metadata": {},
   "outputs": [
    {
     "data": {
      "text/plain": [
       "'0.3.19'"
      ]
     },
     "execution_count": 1,
     "metadata": {},
     "output_type": "execute_result"
    }
   ],
   "source": [
    "import langchain\n",
    "langchain.__version__"
   ]
  },
  {
   "cell_type": "code",
   "execution_count": 2,
   "metadata": {},
   "outputs": [],
   "source": [
    "llm = ChatTogether(api_key=os.getenv(\"TOGETHER_AI_API_KEY\"),temperature=0.0, model=\"meta-llama/Meta-Llama-3.1-8B-Instruct-Turbo\")"
   ]
  },
  {
   "cell_type": "code",
   "execution_count": 3,
   "metadata": {
    "id": "6h4I4r84hY20"
   },
   "outputs": [],
   "source": [
    "from langchain_community.document_loaders import PyPDFLoader\n",
    "\n",
    "\n",
    "# Load PDF\n",
    "loaders = [\n",
    "    PyPDFLoader(\"./Gautam_Naik_DSML_CV.pdf\"),\n",
    "]\n",
    "docs = []\n",
    "for loader in loaders:\n",
    "    docs.extend(loader.load())"
   ]
  },
  {
   "cell_type": "code",
   "execution_count": 4,
   "metadata": {},
   "outputs": [
    {
     "data": {
      "text/plain": [
       "2"
      ]
     },
     "execution_count": 4,
     "metadata": {},
     "output_type": "execute_result"
    }
   ],
   "source": [
    "len(docs)"
   ]
  },
  {
   "cell_type": "code",
   "execution_count": 5,
   "metadata": {},
   "outputs": [
    {
     "data": {
      "text/plain": [
       "'Gautam\\n \\nNaik\\n \\nMachine\\n \\nLearning\\n \\nEngineer\\n \\n&\\n \\nData\\n \\nScientist\\n \\nGoa-India,\\n  \\n+91\\n \\n9421873737,\\n  \\ng a u t a m n a i k 1 9 9 4 @ g m a i l . c o m\\n,\\n \\nl i n k e d i n . c o m / i n / g a u t a m n a i k 1 9 9 4\\n,\\n  \\ng a u t a m n a i k . c o m\\n,\\n  \\ng i t h u b . c o m / g a u t a m n a i k 1 9 9 4\\n \\n \\n \\n●\\n \\nMachine\\n \\nLearning\\n \\nEngineer\\n \\nwith\\n \\n9\\n \\nyears\\n \\nof\\n \\nsoftware\\n \\nengineering\\n \\nexperience\\n \\nand\\n \\n4\\n \\nyears\\n \\nof\\n \\nhands-on\\n \\ndata\\n \\nscience\\n \\n&\\n \\nML\\n \\nexpertise\\n.\\n \\nSkilled\\n \\nin\\n \\nPython,\\n \\nSQL,\\n \\nand\\n \\ncloud-based\\n \\nML\\n \\ndeployment,\\n \\nwith\\n \\na\\n \\nstrong\\n \\nfoundation\\n \\nin\\n \\nend-to-end\\n \\nmodel\\n \\ndevelopment\\n \\nand\\n \\nMLOps.\\n  \\n \\n●\\n \\nBuilt\\n \\nAI-driven\\n \\nforecasting\\n \\nmodels\\n \\nthat\\n \\nimproved\\n \\nbusiness\\n \\ndecisions\\n \\nby\\n \\n15%\\n \\nand\\n \\nan\\n \\nautomated\\n \\ntrading\\n \\nsystem\\n \\nusing\\n \\nAWS\\n \\nLambda\\n \\n&\\n \\nCDK.\\n \\nExperienced\\n \\nin\\n \\ncollaborating\\n \\nwith\\n \\nstakeholders,\\n \\noptimizing\\n \\ndata\\n \\npipelines,\\n \\nand\\n \\ndeploying\\n \\nscalable\\n \\nML\\n \\nsolutions.\\n \\nProﬁcient\\n \\nin\\n \\nAWS\\n \\n(CDK,\\n \\nLambda,\\n \\nDynamoDB,\\n \\nFastAPI)\\n  \\nfor\\n \\nserverless\\n \\ncomputing\\n \\nand\\n \\nAPI-driven\\n \\narchitectures.\\n  \\n \\n●\\n \\nEager\\n \\nto\\n \\napply\\n \\nML\\n \\nexpertise\\n \\nand\\n \\ncloud\\n \\nengineering\\n \\nskills\\n \\nto\\n \\ndrive\\n \\nimpactful,\\n \\ndata-driven\\n \\ndecision-making.\\n  \\n \\n \\n \\nSKILLS\\n \\n_ _ _ _ _ _ _ _ _ _ _ _ _ _ _ _ _ _ _ _ _ _ _ _ _ _ _ _ _ _ _ _ _ _ _ _ _ _ _ _ _ _ _ _ _ _ _ _ _ _ _ _ _ _ _ _ _ _ _ _ _ _ _ _ _ _ _ _ _ _ _ _ _ _ _ _ _ _ _ _ _ _ _ _ _ _ _ _ _ _ _ _ _ _ _ _ _ _ _ _ _ _ _ _ _ _ _ _ _ _ _ _ _ _ _ _ _ _ _\\n \\n \\nCore\\n \\nData\\n \\nScience\\n \\n&\\n \\nMachine\\n \\nLearning\\n:\\n \\nPredictive\\n \\nAnalytics\\n \\n&\\n \\nForecasting,\\n \\nStatistical\\n \\nModeling\\n \\n&\\n \\nHypothesis\\n \\nTesting,\\n \\nSupervised\\n \\n&\\n \\nUnsupervised\\n \\nLearning,\\n \\nExperiment\\n \\nTracking,\\n \\nTime\\n \\nSeries\\n \\nAnalysis.\\n \\nVisualization\\n \\n&\\n \\nBusiness\\n \\nIntelligence\\n:\\n \\nExploratory\\n \\nData\\n \\nAnalysis,\\n \\nData\\n \\nVisualization\\n \\n(Tableau,\\n \\nMatplotlib,\\n \\nSeaborn),\\n \\n \\nStreamlit\\n \\n&\\n \\nDash\\n \\nfor\\n \\nInteractive\\n \\nApps.\\n \\nData\\n \\nEngineering\\n:\\n \\nWeb\\n \\nScraping(Beautiful\\n \\nSoup,\\n \\nPuppeteer),\\n \\nPySpark,\\n \\nSQL,\\n \\nBasic\\n \\nETL\\n \\nPipelines\\n \\n(AWS\\n \\nEventBridge,\\n \\nLambda,\\n \\nDynamoDB,\\n \\nS3)\\n \\nProgramming\\n:\\n \\nPython\\n \\n(Pandas,\\n \\nPolars,\\n \\nNumPy,\\n \\nScikit-Learn),\\n \\nAPI\\n \\nDevelopment\\n \\n(FastAPI,\\n \\nFlask),\\n \\nServerless\\n \\nComputing\\n \\n(AWS\\n \\nLambda,\\n \\nAPI\\n \\nGateway),\\n \\nDevOps\\n \\n&\\n \\nMLOps\\n \\n(Docker,\\n \\nMLﬂow,\\n \\nAWS\\n \\nCDK),\\n \\nDatabase(Mongo\\n \\nDB,\\n \\nDynamoDB),\\n \\nGenerative\\n \\nAI.\\n \\n \\n \\nPROJECTS\\n \\n_ _ _ _ _ _ _ _ _ _ _ _ _ _ _ _ _ _ _ _ _ _ _ _ _ _ _ _ _ _ _ _ _ _ _ _ _ _ _ _ _ _ _ _ _ _ _ _ _ _ _ _ _ _ _ _ _ _ _ _ _ _ _ _ _ _ _ _ _ _ _ _ _ _ _ _ _ _ _ _ _ _ _ _ _ _ _ _ _ _ _ _ _ _ _ _ _ _ _ _ _ _ _ _ _ _ _ _ _ _ _ _ _ _ _ _ _ _ _\\n \\n \\nAI-Powered\\n \\nSales\\n \\nForecasting\\n  \\nw w w . g a u t a m n a i k . c o m / b l o g / s a l e s - f o r e c a s t i n g /\\n \\nEnhanced\\n \\nsales\\n \\nforecasting\\n \\naccuracy\\n \\nby\\n \\ndeveloping\\n \\nan\\n \\nend-to-end\\n \\nsolution\\n \\nthat\\n \\nleveraged\\n \\n188,340\\n \\nrecords\\n \\nof\\n \\nhistorical\\n \\ndata\\n \\nfrom\\n \\n365\\n \\nstores.\\n \\n●\\n \\nValidated\\n \\nbusiness\\n \\nassumptions\\n \\nusing\\n \\nhypothesis\\n \\ntesting\\n \\nto\\n \\nimprove\\n \\ndata-driven\\n \\ndecisions.\\n \\n●\\n \\nEngineered\\n \\nover\\n \\n30\\n \\nfeatures,\\n \\nincluding\\n \\nlag\\n \\nfeatures\\n \\nand\\n \\nrolling\\n \\nstatistics,\\n \\nsigniﬁcantly\\n \\nenhancing\\n \\nmodel\\n \\nperformance\\n \\nby\\n \\ncapturing\\n \\ncomplex\\n \\ntemporal\\n \\npatterns.\\n \\n \\n●\\n \\nDeveloped\\n \\nand\\n \\nassessed\\n \\nvarious\\n \\nmachine\\n \\nlearning\\n \\nmodels,\\n \\nachieving\\n \\noptimal\\n \\nresults\\n \\nusing\\n \\nLightGBM\\n \\nfor\\n \\nindividual\\n \\nstore\\n \\nforecasting.\\n \\n●\\n \\nApplied\\n \\ntime\\n \\nseries\\n \\nmodels\\n \\nlike\\n \\nFacebook\\n \\nProphet\\n \\nand\\n \\nARIMA,\\n \\nachieving\\n \\na\\n \\n14%\\n \\nMAPE\\n \\nfor\\n \\nglobal\\n \\nsales\\n \\nforecasting,\\n \\nwith\\n \\nProphet\\n \\nyielding\\n \\nthe\\n \\nbest\\n \\nresults.\\n \\n●\\n \\nIntegrated\\n \\nsimple\\n \\nETL\\n \\npipelines\\n \\nfor\\n \\ndata\\n \\ningestion\\n \\nand\\n \\npreprocessing.\\n \\n●\\n \\nDeployed\\n \\nan\\n \\ninteractive\\n \\nStreamlit\\n \\nweb\\n \\napplication\\n \\nfor\\n \\nthe\\n \\nforecasting\\n \\nmodel,\\n \\nenabling\\n \\nusers\\n \\nto\\n \\nforecast\\n \\nsales\\n \\nat\\n \\nvarious\\n \\nlevels\\n \\nwith\\n \\nstreamlined\\n \\ndata\\n \\nprocessing.\\n \\n \\nAutomated\\n \\nTrading\\n \\nSystem\\n  \\nw w w . g a u t a m n a i k . c o m / b l o g / a u t o m a t e d - t r a d i n g - s y s t e m /\\n \\nArchitected\\n \\nand\\n \\ndeveloped\\n \\nan\\n \\nautomated\\n \\ntrading\\n \\nsystem\\n \\nusing\\n \\nAWS\\n \\nLambda\\n \\nfunctions\\n \\nto\\n \\nscan\\n \\ndaily\\n \\nprice\\n \\nand\\n \\nmarket\\n \\ndata\\n \\nto\\n \\ngenerate\\n \\ntrade\\n \\nsignals.\\n \\n \\n●\\n \\nThe\\n \\nsystem\\n \\nthen\\n \\nautomatically\\n \\nplaces\\n \\norders,\\n \\nsquares\\n \\noff\\n \\ntrades,\\n \\nand\\n \\nsaves\\n \\ntrade\\n \\ndata\\n \\nto\\n \\na\\n \\ndatabase.\\n \\n●\\n \\nDeployed\\n \\nan\\n \\nevent-driven\\n \\ntrading\\n \\nsystem\\n \\nusing\\n \\nAWS\\n \\nCDK,\\n \\nautomating\\n \\nLambda\\n \\nfunction\\n \\ncreation,\\n \\nevent\\n \\nschedulers,\\n \\nand\\n \\nAPI\\n \\nGateway\\n \\nsetup.\\n \\nManaged\\n \\ntrade\\n \\nstorage\\n \\nusing\\n \\nDynamoDB\\n \\nfor\\n \\nreal-time\\n \\ndata\\n \\nprocessing.\\n \\n●\\n \\nTechnologies\\n \\nUsed:\\n \\nPython,\\n \\nPandas,\\n \\nPuppeteer,\\n \\nDynamoDB,\\n \\nAWS\\n \\nCDK,\\n \\nand\\n \\nAWS\\n \\nLambda\\n \\nfunctions.\\n \\n \\n '"
      ]
     },
     "execution_count": 5,
     "metadata": {},
     "output_type": "execute_result"
    }
   ],
   "source": [
    "docs[0].page_content"
   ]
  },
  {
   "cell_type": "code",
   "execution_count": 6,
   "metadata": {
    "id": "FsjOWQInhiEo"
   },
   "outputs": [],
   "source": [
    "from langchain.text_splitter import RecursiveCharacterTextSplitter \n",
    "\n",
    "text_splitter = RecursiveCharacterTextSplitter(\n",
    "    chunk_size = 500,\n",
    "    chunk_overlap = 100,\n",
    "    separators=[\"\\n\\n\",\"\\n\",\".\",\" \"] \n",
    ")"
   ]
  },
  {
   "cell_type": "code",
   "execution_count": 7,
   "metadata": {
    "id": "BQ3asys8hmh8"
   },
   "outputs": [],
   "source": [
    "splits = text_splitter.split_documents(docs)"
   ]
  },
  {
   "cell_type": "code",
   "execution_count": 8,
   "metadata": {
    "colab": {
     "base_uri": "https://localhost:8080/"
    },
    "id": "zlkh0_gchpET",
    "outputId": "80733359-e722-4fa3-9ef5-cf967f8ac909"
   },
   "outputs": [
    {
     "data": {
      "text/plain": [
       "24"
      ]
     },
     "execution_count": 8,
     "metadata": {},
     "output_type": "execute_result"
    }
   ],
   "source": [
    "len(splits)"
   ]
  },
  {
   "cell_type": "code",
   "execution_count": 9,
   "metadata": {
    "colab": {
     "base_uri": "https://localhost:8080/",
     "height": 458,
     "referenced_widgets": [
      "5f8c565649ee458cbd94c28849a0acc4",
      "c44f087b2f7c4aff82fb9aecf2d85a13",
      "3de027f8c7fc45d198e37b2a4198f3cc",
      "196b741b07004b188e0f50deb6c94c6f",
      "708c961df6764cbeb7c0344a1c8479d1",
      "9c438a788b504da0b15614474d51dc27",
      "6ce409530db84591beb217a0163432fb",
      "4b136707cad446e3a559f20867e2a98b",
      "676674f629a346c9ad29fb3dc95d0030",
      "aeae7f0bc42a4155af5491bc9c46acef",
      "fd0c08292481445c86221dfe072a1eb3",
      "49971ca41a384de79dc213f3c782c69d",
      "23f4083127654b828b6df7a5f9dd9e45",
      "7d50e70f82e140aca52a3b2b206ee24d",
      "2b3f11094275453d8ef30218e6d549d0",
      "62c7ff49624647c79841d83f8fe7fe5a",
      "57df5331004a4d068919e7cad6572a42",
      "fd0583ad80194430bfcccb29f1a73914",
      "283e01efd1034dd7a01c7677fd0b0c76",
      "539ee4bbfc904e4fba1136efde3590c8",
      "15e5128116214e508ac79385104ab342",
      "06daa5bbf2de44bd9bb0ebfce96aadfd",
      "a5b7d1aacb00478a98e5c77acad82541",
      "424845592343436d8c1a156f3bb0fb1a",
      "b51f1a1482404c8690eaa4a7bff5ab8b",
      "3d287e4d49c243ecbe904907d41c0fc6",
      "b8235ec2bba04d4da109f11aead4136c",
      "fae9cf89eeec4204b273073d777bb929",
      "9a3adbd5df4d4943a4ea834e4591ce1c",
      "bf564fca246a42fc9449e1ceccd75faa",
      "b75f131b549c4f40b02d7e1f138bb842",
      "0a9fedb036a0476a87edd35a954e074a",
      "15dc4bd40a314ad3bbb7f575140a50bd",
      "c44bd63d7c694166a9af6417b7917b32",
      "572e7c99f13a44699e7eed1e2271e9d4",
      "84a471d0b9824da2a018ac4c74d0e32f",
      "03cc0d053d214806b98c7216de229921",
      "cbe3535faa1442c697f6dcb6efa5bc82",
      "c12dba5a20be41bfba43db6adbf5eb54",
      "609bbe20180f4c6a94a97f34bacfd9e5",
      "1dcca08c1d4442a4a0bd2cc0a77f77f1",
      "a9d97190ef374d61a228121494315ab7",
      "a08aa97417d4409baef3355e1d787089",
      "cc12ea6a00734bc89ff1df5f783488be",
      "c3903d73800d4ae281c9adaddd64e41a",
      "82a41d302bcd40f392fdf0169e981086",
      "d6b5e1b032d2482cb4d42efebc771484",
      "ead5121e56cc4685bc9d78f5b3192933",
      "c36add99f15a4efb95db726458f05927",
      "1aa8d47cb4934da78523e0df52a08fd5",
      "e58da78ff9fc481e92ded1769acc8bba",
      "ff8a5ed4e14443f3becfcba3cf8624c5",
      "ce50a9a6b4da4ff2b347ec6d0c3226f1",
      "db6522484d064c11a52065aa0e694875",
      "254082431ae446089ccb272bb3bc23e9",
      "d4f9ab8964fe400fab1c6bbd4f37ed8f",
      "28c4635c46494189b4173ac74e4af013",
      "c4ac6ea070654d32b0108f023ae86b24",
      "b449117d7d5043c8879f3c88917d4d3a",
      "ddc171b2f1644e079d31711f521e6dbc",
      "28fd72a47d4c490cabcb4c9a895db00d",
      "7238c5b7ffd04003b94405df0b259173",
      "d85edcc90e3d4745bbf2db580f5efd18",
      "bc9bc54a81f94ab694b4480397317ce4",
      "0d18eb47a87546fc87964d9eff63355a",
      "5eb5e988c4e040c88a25aa3a4af5ed22",
      "e7ade88e6d3b48e39f1529001eba60b6",
      "ddcf04d6fdb04bd4bd564b0222f20c71",
      "88e50305c1ea42ccb2e74bcf53cb89de",
      "bf2371a739c94be2ab2d79bbacdeeae3",
      "a4b06adeb570407f9a4146e873bc20f3",
      "e8fe1a36c484413599d80ec8dd055fd4",
      "775c5c788d8943eca6457177fa6ee246",
      "afad22069c5b445d84d848b93f562689",
      "69c89d587c62405d96b8b6696b6aa9d1",
      "2c72501570ce431e8e19a341c60cb66e",
      "7967a194a6384c9eb3e62d3b88291efa",
      "bae480e8f79e4fb1b2fc7be831fb1628",
      "bf6bae6c1a9f4b22b79f6d910de3e97f",
      "3b4f8a4eaaab45f2ac6f8637580dd750",
      "185470b49de84d59ae67db5e4d628112",
      "22358ffeda8947129c54b0fa6694ce99",
      "333255dbc9cd4b3d9f31feb73a46cbfc",
      "d8872e9167b248fb8fc41b32da1dd3f0",
      "2521d066576d48f0ad69ca71224a6c98",
      "17e68b8e85f9401ca8282648dc9341b8",
      "8d01ac2e36ec4f21952c1c30928c725d",
      "3a789095acb04e2aad03144d97e7c260",
      "7896414c7452444abaf8fd02210618ab",
      "3611ad08df2e4da2b941c7a785ba2d6c",
      "1383d881a19b4ee2a4424f03efb3a10b",
      "e6cfb4903ba6497fb13face3c498583b",
      "4e456dbefc474355a4a012e7fd82c318",
      "ba7dd05239bb4d0ea9aac2cf0c5347f3",
      "d3f9b43cfe194f63bc0454ed3c1bcf87",
      "1d6103b42e4f44b496078291de857ba2",
      "14b9c857d4614cb79552825e6a2c11be",
      "eba43e9414ce402e97361641bdf34316",
      "c73f73f9770349968c2ae71d19034a6b",
      "1ecfe339b0fd48c8906c4e6d5a8fffc9",
      "5d27c447abf94a8f896f6df9e319975c",
      "0026ea210a5e445cb060c1f3c8d6ddad",
      "d386d6865c5a4c329945297c027384c6",
      "9de92a7d04a04d358e592c94bc7a0ea4",
      "7c3551d630224947ae611215c5d7ba3b",
      "073c6a74d5d94fd2b4515c17a4900bf6",
      "8cc46c9ccbb5451eb86b5352b281b3d8",
      "d7e9898383184058af7ab8506be3c1b1",
      "5c65e58ed88e4453ab7f19408b5af5d8",
      "1aad02493d9142ce8fa875be65344ece",
      "23fa6e0ba18c427ca01c39152f3bc712",
      "5ad5c04000ba4ebf8ac1baea49c68180",
      "99f96a011630427daf94f50de37abd9f",
      "e9cd133669634e7f86a90b867960ff33",
      "a4f1790f58044b5bab6f2b6fd843e732",
      "cd447ffd161b40349891ac89db9b9c84",
      "506e3431e1df457994ea26047e7c3f76",
      "834122903cae44a7a4ae17c4580bc711",
      "1b939dc4ff7d421eb53296795d765e59",
      "313da8b07d1343d8aff26a0f2eb4d557",
      "f13c3bfe72b0434d943cce85ef94bb26"
     ]
    },
    "id": "i8zf5vmvl8Ld",
    "outputId": "d6e2bc8b-a42c-4806-a0fe-deca14270de4"
   },
   "outputs": [],
   "source": [
    "# from langchain.embeddings import HuggingFaceEmbeddings\n",
    "from langchain_huggingface import HuggingFaceEmbeddings\n",
    "\n",
    "embedding = HuggingFaceEmbeddings()"
   ]
  },
  {
   "cell_type": "code",
   "execution_count": 10,
   "metadata": {
    "colab": {
     "base_uri": "https://localhost:8080/"
    },
    "id": "rPOWMEBZhqp_",
    "outputId": "e7062a72-5d85-4f3c-c702-d0440ca66090"
   },
   "outputs": [
    {
     "name": "stdout",
     "output_type": "stream",
     "text": [
      "24\n"
     ]
    }
   ],
   "source": [
    "from langchain_community.vectorstores import FAISS, InMemoryVectorStore\n",
    "\n",
    "db = FAISS.from_documents(splits, embedding)\n",
    "\n",
    "print(db.index.ntotal)"
   ]
  },
  {
   "cell_type": "code",
   "execution_count": 13,
   "metadata": {},
   "outputs": [],
   "source": [
    "vectorstore = InMemoryVectorStore.from_documents(\n",
    "    documents=splits, embedding=HuggingFaceEmbeddings()\n",
    ")"
   ]
  },
  {
   "cell_type": "code",
   "execution_count": 11,
   "metadata": {
    "id": "RdubhsM4mAGI"
   },
   "outputs": [],
   "source": [
    "from langchain.chains import RetrievalQA\n",
    "\n",
    "qa_chain = RetrievalQA.from_chain_type(\n",
    "    llm,\n",
    "    retriever=db.as_retriever()\n",
    ")"
   ]
  },
  {
   "cell_type": "code",
   "execution_count": null,
   "metadata": {
    "id": "n6zdrAdrmR1r"
   },
   "outputs": [],
   "source": [
    "query = \"\"\"\n",
    "We are looking for a machine learning engineer with experience in building and deploying machine learning models.\n",
    "The candidate should have a background in Python, Generative AI, time series forecasting and cloud platforms like AWS or Azure.\n",
    "\"\"\""
   ]
  },
  {
   "cell_type": "code",
   "execution_count": 13,
   "metadata": {
    "colab": {
     "base_uri": "https://localhost:8080/"
    },
    "id": "IXuJ8XiQmJLd",
    "outputId": "698f0971-8928-4250-c72b-b3dc0f0d59f6"
   },
   "outputs": [
    {
     "name": "stderr",
     "output_type": "stream",
     "text": [
      "/var/folders/jf/1r7jb1_s6ys1p0n0n56s2qsh0000gn/T/ipykernel_2232/3834357911.py:1: LangChainDeprecationWarning: The method `Chain.__call__` was deprecated in langchain 0.1.0 and will be removed in 1.0. Use :meth:`~invoke` instead.\n",
      "  result = qa_chain({\"query\": query})\n"
     ]
    }
   ],
   "source": [
    "result = qa_chain({\"query\": query})"
   ]
  },
  {
   "cell_type": "code",
   "execution_count": 14,
   "metadata": {},
   "outputs": [
    {
     "name": "stdout",
     "output_type": "stream",
     "text": [
      "Based on the provided context, it seems that Gautam Naik, a Machine Learning Engineer & Data Scientist, meets most of the requirements you specified. Here's a breakdown of his qualifications:\n",
      "\n",
      "1. **Experience in building and deploying machine learning models**: Gautam has 4 years of hands-on data science & ML expertise, which includes building AI-driven forecasting models that improved business decisions by 15%. He also built an automated trading system using AWS Lambda & CDK.\n",
      "\n",
      "2. **Strong background in Python**: Gautam is skilled in Python, which is one of the primary programming languages used in machine learning.\n",
      "\n",
      "3. **Experience with cloud platforms**: Gautam has experience with AWS, specifically with AWS Lambda, CDK, and DynamoDB. He also has a strong foundation in cloud-based ML deployment.\n",
      "\n",
      "4. **Problem-solving skills**: As a machine learning engineer, Gautam has likely developed strong problem-solving skills, which are essential for working with complex machine learning models.\n",
      "\n",
      "5. **Communication abilities**: Gautam has experience collaborating with stakeholders, which suggests that he has strong communication skills.\n",
      "\n",
      "6. **Agile development environment**: Although the provided context doesn't explicitly mention Gautam's experience with agile development environments, his experience working with stakeholders and optimizing data pipelines implies that he is familiar with agile development methodologies.\n",
      "\n",
      "7. **Data preprocessing and model evaluation techniques**: Gautam's experience in building and deploying machine learning models, as well as his background in data science, suggests that he is familiar with data preprocessing and model evaluation techniques.\n",
      "\n",
      "However, it's worth noting that Gautam's experience with TensorFlow is not explicitly mentioned in the provided context. If TensorFlow is a requirement for the position, you may want to verify this with Gautam directly.\n"
     ]
    }
   ],
   "source": [
    "print(result[\"result\"])"
   ]
  },
  {
   "cell_type": "code",
   "execution_count": 25,
   "metadata": {
    "id": "2gzD-QFHmJ1w"
   },
   "outputs": [],
   "source": [
    "db.save_local(\"cv_db\")"
   ]
  },
  {
   "cell_type": "code",
   "execution_count": 20,
   "metadata": {
    "id": "BKPEdFjvwmwc"
   },
   "outputs": [],
   "source": [
    "new_db = FAISS.load_local(\"cv_db\", embedding, allow_dangerous_deserialization=True)"
   ]
  }
 ],
 "metadata": {
  "colab": {
   "provenance": []
  },
  "kernelspec": {
   "display_name": "base",
   "language": "python",
   "name": "python3"
  },
  "language_info": {
   "codemirror_mode": {
    "name": "ipython",
    "version": 3
   },
   "file_extension": ".py",
   "mimetype": "text/x-python",
   "name": "python",
   "nbconvert_exporter": "python",
   "pygments_lexer": "ipython3",
   "version": "3.12.2"
  }
 },
 "nbformat": 4,
 "nbformat_minor": 4
}
